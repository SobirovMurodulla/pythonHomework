{
 "cells": [
  {
   "metadata": {},
   "cell_type": "markdown",
   "source": "Task-1: Create a vector with values ranging from 10 to 49.",
   "id": "102b0fc53c070562"
  },
  {
   "metadata": {},
   "cell_type": "code",
   "outputs": [],
   "execution_count": null,
   "source": [
    "import numpy as np\n",
    "vector = np.arange(10,50)\n",
    "print(vector)"
   ],
   "id": "1f541bddf1d82d4a"
  },
  {
   "metadata": {},
   "cell_type": "markdown",
   "source": "Task-2: Create a 3x3 matrix with values ranging from 0 to 8.",
   "id": "eceff6bbeff00500"
  },
  {
   "metadata": {},
   "cell_type": "code",
   "outputs": [],
   "execution_count": null,
   "source": [
    "matrix = np.arange(0,9).reshape(3,3)\n",
    "print(matrix)"
   ],
   "id": "c85b1d23bc61c37b"
  },
  {
   "metadata": {},
   "cell_type": "markdown",
   "source": "Task-3: Create a 3x3 identity matrix.",
   "id": "d5d35fa45375bc80"
  },
  {
   "metadata": {},
   "cell_type": "code",
   "outputs": [],
   "execution_count": null,
   "source": [
    "identity_matrix = np.eye(3)\n",
    "print(identity_matrix)"
   ],
   "id": "285dab35188e8d11"
  },
  {
   "metadata": {},
   "cell_type": "markdown",
   "source": "Task-4: Create a 3x3x3 array with random values.",
   "id": "76ed6f9a9e5a4e32"
  },
  {
   "metadata": {},
   "cell_type": "code",
   "outputs": [],
   "execution_count": null,
   "source": [
    "random_array = np.random.random((3,3,3))\n",
    "print(random_array)"
   ],
   "id": "4abb896bcda3fff4"
  },
  {
   "metadata": {},
   "cell_type": "markdown",
   "source": "Task-5: Create a 10x10 array with random values and find the minimum and maximum values.",
   "id": "2dfaa5a49179a4a1"
  },
  {
   "metadata": {},
   "cell_type": "code",
   "outputs": [],
   "execution_count": null,
   "source": [
    "array = np.random.random((10,10))\n",
    "print(array)\n",
    "min_value = array.min()\n",
    "max_value = array.max()\n",
    "print(\"Minimum value: \", min_value)\n",
    "print(\"Maximum value: \", max_value)"
   ],
   "id": "dcd8ae1eb812bbe9"
  },
  {
   "metadata": {},
   "cell_type": "markdown",
   "source": "Task-6: Create a random vector of size 30 and find the mean value.",
   "id": "81c312342c2fc5b"
  },
  {
   "metadata": {},
   "cell_type": "code",
   "outputs": [],
   "execution_count": null,
   "source": [
    "vector = np.random.random(30)\n",
    "print(vector)\n",
    "mean_value = vector.mean()\n",
    "print(\"Mean value: \", mean_value)"
   ],
   "id": "8aa40c891b01732c"
  },
  {
   "metadata": {},
   "cell_type": "markdown",
   "source": "Task-7: Normalize a 5x5 random matrix.",
   "id": "c5bbedbe71b8a517"
  },
  {
   "metadata": {},
   "cell_type": "code",
   "outputs": [],
   "execution_count": null,
   "source": [
    "matrix = np.random.random((5,5))\n",
    "print(matrix)\n",
    "normalized_matrix = (matrix - np.mean(matrix)) / np.std(matrix)\n",
    "print(normalized_matrix)"
   ],
   "id": "2933e7169e46164b"
  },
  {
   "metadata": {},
   "cell_type": "markdown",
   "source": "Task-8: Multiply a 5x3 matrix by a 3x2 matrix (real matrix product).",
   "id": "6ab18852a29c9b8"
  },
  {
   "metadata": {},
   "cell_type": "code",
   "outputs": [],
   "execution_count": null,
   "source": [
    "matrix1 = np.random.random((5,3))\n",
    "matrix2 = np.random.random((3,2))\n",
    "print(matrix1)\n",
    "print(matrix2)\n",
    "result = matrix1 @ matrix2\n",
    "print(result)"
   ],
   "id": "6f8d074a2066422e"
  },
  {
   "metadata": {},
   "cell_type": "markdown",
   "source": "Task-9: Create two 3x3 matrices and compute their dot product.",
   "id": "9e44a9045e0ef40c"
  },
  {
   "metadata": {},
   "cell_type": "code",
   "outputs": [],
   "execution_count": null,
   "source": [
    "matrix1 = np.random.random((3,3))\n",
    "matrix2 = np.random.random((3,3))\n",
    "print(matrix1)\n",
    "print(matrix2)\n",
    "result = np.dot(matrix1, matrix2)\n",
    "print(result)"
   ],
   "id": "c0795378d402afba"
  },
  {
   "metadata": {},
   "cell_type": "markdown",
   "source": "Task-10: Given a 4x4 matrix, find its transpose.",
   "id": "ad1b533ed21654cf"
  },
  {
   "metadata": {},
   "cell_type": "code",
   "outputs": [],
   "execution_count": null,
   "source": [
    "matrix = np.random.random((4,4))\n",
    "print(matrix)\n",
    "transpose_matrix = np.transpose(matrix)\n",
    "print(transpose_matrix)"
   ],
   "id": "1a51965995cf2caa"
  },
  {
   "metadata": {},
   "cell_type": "markdown",
   "source": "Task-11: Create a 3x3 matrix and calculate its determinant.",
   "id": "7d2a75ec1372c7a2"
  },
  {
   "metadata": {},
   "cell_type": "code",
   "outputs": [],
   "execution_count": null,
   "source": [
    "matrix = np.random.random((3,3))\n",
    "print(matrix)\n",
    "determinant = np.linalg.det(matrix)\n",
    "print(determinant)\n"
   ],
   "id": "742d9b0baf0a8fc7"
  },
  {
   "metadata": {},
   "cell_type": "markdown",
   "source": "Task-12: Create two matrices ( A ) (3x4) and ( B ) (4x3), and compute the matrix product ( A \\cdot B ).",
   "id": "66df4da23b1a5b0d"
  },
  {
   "metadata": {},
   "cell_type": "code",
   "outputs": [],
   "execution_count": null,
   "source": [
    "matrix1 = np.random.random((3,4))\n",
    "matrix2 = np.random.random((4,3))\n",
    "print(matrix1)\n",
    "print(matrix2)\n",
    "result = np.dot(matrix1, matrix2)\n",
    "print(result)"
   ],
   "id": "f8668c21cf48aad0"
  },
  {
   "metadata": {},
   "cell_type": "markdown",
   "source": "Task-13: Create a 3x3 random matrix and a 3-element column vector. Compute the matrix-vector product.",
   "id": "e2679816ed124b1a"
  },
  {
   "metadata": {},
   "cell_type": "code",
   "outputs": [],
   "execution_count": null,
   "source": [
    "matrix = np.random.random((3,3))\n",
    "vector = np.random.random((3,1))\n",
    "print(matrix)\n",
    "print(vector)\n",
    "result = np.dot(matrix, vector)\n",
    "print(result)"
   ],
   "id": "53b2705dde93e77c"
  },
  {
   "metadata": {},
   "cell_type": "markdown",
   "source": "Task-14: Solve the linear system ( Ax = b ) where ( A ) is a 3x3 matrix, and ( b ) is a 3x1 column vector.",
   "id": "974252dfc4eda451"
  },
  {
   "metadata": {},
   "cell_type": "code",
   "outputs": [],
   "execution_count": null,
   "source": [
    "A = np.random.random((3,3))\n",
    "b = np.random.random((3,1))\n",
    "print(A)\n",
    "print(b)\n",
    "x = np.linalg.solve(A, b)\n",
    "print(x)"
   ],
   "id": "a7a9e0a125ae6ea1"
  },
  {
   "metadata": {},
   "cell_type": "markdown",
   "source": "Task-15: Given a 5x5 matrix, find the row-wise and column-wise sums.",
   "id": "67819f5b50cddfb3"
  },
  {
   "metadata": {},
   "cell_type": "code",
   "outputs": [],
   "execution_count": null,
   "source": [
    "matrix = np.random.random((5,5))\n",
    "print(matrix)\n",
    "row_sum = matrix.sum(axis=1)\n",
    "column_sum = matrix.sum(axis=0)\n",
    "print(\"Row-wise sum: \", row_sum)\n",
    "print(\"Column-wise sum: \", column_sum)"
   ],
   "id": "aaa6a6cf96bb3d96"
  }
 ],
 "metadata": {
  "kernelspec": {
   "display_name": "Python 3",
   "language": "python",
   "name": "python3"
  },
  "language_info": {
   "codemirror_mode": {
    "name": "ipython",
    "version": 2
   },
   "file_extension": ".py",
   "mimetype": "text/x-python",
   "name": "python",
   "nbconvert_exporter": "python",
   "pygments_lexer": "ipython2",
   "version": "2.7.6"
  }
 },
 "nbformat": 4,
 "nbformat_minor": 5
}
