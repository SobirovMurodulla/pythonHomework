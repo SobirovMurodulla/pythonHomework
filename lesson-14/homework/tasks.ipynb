{
 "cells": [
  {
   "metadata": {},
   "cell_type": "markdown",
   "source": "Task 1. Write a Python function that converts a temperature from Fahrenheit to Celsius. Use numpy.vectorize to apply this function to an array of temperatures: [32, 68, 100, 212, 77].",
   "id": "c45bf64f6642aa5a"
  },
  {
   "metadata": {
    "ExecuteTime": {
     "end_time": "2025-03-13T15:05:23.042253Z",
     "start_time": "2025-03-13T15:05:22.154845Z"
    }
   },
   "cell_type": "code",
   "source": [
    "import numpy as np\n",
    "def fahrenheit_to_celsius(f):\n",
    "    return (f - 32) * 5/9\n",
    "fahrenheit_to_celsius_vectorized = np.vectorize(fahrenheit_to_celsius)\n",
    "temps_f = np.array([32, 68, 100, 212, 77])\n",
    "temps_c = fahrenheit_to_celsius_vectorized(temps_f)\n",
    "print(*temps_c)\n"
   ],
   "id": "e7e65706f9d0cd0",
   "outputs": [
    {
     "name": "stdout",
     "output_type": "stream",
     "text": [
      "0.0 20.0 37.77777777777778 100.0 25.0\n"
     ]
    }
   ],
   "execution_count": 1
  },
  {
   "metadata": {},
   "cell_type": "markdown",
   "source": "Task 2. Create a custom function that takes two arguments: a number and a power. Use numpy.vectorize to calculate the power for each pair of numbers in two arrays: [2, 3, 4, 5] and [1, 2, 3, 4].",
   "id": "4665059716733cc3"
  },
  {
   "metadata": {},
   "cell_type": "code",
   "outputs": [],
   "execution_count": null,
   "source": [
    "def custom_power(x, y):\n",
    "    return x ** y\n",
    "custom_power_vectorized = np.vectorize(custom_power)\n",
    "x = np.array([2, 3, 4, 5])\n",
    "y = np.array([1, 2, 3, 4])\n",
    "result = custom_power_vectorized(x, y)\n",
    "print(*result)"
   ],
   "id": "907f6f15032315d4"
  },
  {
   "metadata": {},
   "cell_type": "markdown",
   "source": [
    "Task 3. Solve the system of equations using numpy:\n",
    "4 x + 5 y + 6z = 7; 3 x − y + z = 4; 2 x + y − 2 z = 5"
   ],
   "id": "fa7120e487cf19b3"
  },
  {
   "metadata": {
    "ExecuteTime": {
     "end_time": "2025-03-13T15:08:57.340423Z",
     "start_time": "2025-03-13T15:08:57.326605Z"
    }
   },
   "cell_type": "code",
   "source": [
    "from numpy.linalg import solve\n",
    "A = np.array([[4, 5, 6], [3, -1, 1], [2, 1, -2]])\n",
    "B = np.array([7, 4, 5])\n",
    "X = solve(A, B)\n",
    "print(X)"
   ],
   "id": "b78d0cfbc1f79a71",
   "outputs": [
    {
     "name": "stdout",
     "output_type": "stream",
     "text": [
      "[ 1.7027027   0.62162162 -0.48648649]\n"
     ]
    }
   ],
   "execution_count": 2
  },
  {
   "metadata": {},
   "cell_type": "markdown",
   "source": [
    "Task 4. Given the electrical circuit equations below, solve for I 1 , I 2 , I 3 (currents in the branches):\n",
    "\n",
    "{ 10 I 1 − 2 I 2 + 3 I 3 = 12; − 2 I 1 + 8 I 2 − I 3 = − 5; 3 I 1 − I 2 + 6 I 3 = 15 }"
   ],
   "id": "8bc08cd3cee61017"
  },
  {
   "metadata": {},
   "cell_type": "code",
   "outputs": [],
   "execution_count": null,
   "source": [
    "A = np.array([[10, -2, 3], [-2, 8, -1], [3, -1, 6]])\n",
    "B = np.array([12, -5, 15])\n",
    "X = solve(A, B)\n",
    "print(X)"
   ],
   "id": "c9e9d508e6cae0ec"
  },
  {
   "metadata": {},
   "cell_type": "markdown",
   "source": [
    "Task-5. Image Manipulation with NumPy and PIL\n",
    "\n",
    "Image file: images/birds.jpg. Your task is to perform the following image manipulations using the NumPy library while leveraging PIL for reading and saving the image.\n",
    "\n",
    "Instructions:\n",
    "\n",
    "    Flip the Image:\n",
    "        Flip the image horizontally and vertically (left-to-right and up-to-down).\n",
    "\n",
    "    Add Random Noise:\n",
    "        Add random noise to the image.\n",
    "\n",
    "    Brighten Channels:\n",
    "        Increase the brightness of the channels (r.g. red channel) by a fixed value (e.g., 40). Clip the values to ensure they stay within the 0 to 255 range.\n",
    "\n",
    "    Apply a Mask:\n",
    "        Mask a rectangular region in the image (e.g., a 100x100 area in the center) by setting all pixel values in this region to black (0, 0, 0).\n",
    "\n",
    "Requirements:\n",
    "\n",
    "    Use the PIL module onyl to:\n",
    "        Read the image.\n",
    "        Convert numpy array to image.\n",
    "        Save the modified image back to a file.\n",
    "    Perform all manipulations using NumPy functions. Avoid using image editing functions from PIL or other libraries.\n",
    "\n",
    "Bonus Challenge:\n",
    "\n",
    "    Create a function for each manipulation (e.g., flip_image, add_noise, brighten_channels, apply_mask) to promote modularity and reusability of code.\n"
   ],
   "id": "4204993b85ac8e0f"
  },
  {
   "metadata": {
    "ExecuteTime": {
     "end_time": "2025-03-13T15:34:25.879549Z",
     "start_time": "2025-03-13T15:34:25.353699Z"
    }
   },
   "cell_type": "code",
   "source": [
    "from PIL import Image\n",
    "import numpy as np\n",
    "import matplotlib.pyplot as plt\n",
    "def flip_image(image_path):\n",
    "    img = Image.open(image_path)\n",
    "    img_np = np.array(img)\n",
    "    img_np_flipped = np.flip(img_np, axis=1)\n",
    "    img_flipped = Image.fromarray(img_np_flipped)\n",
    "    img_flipped.save('images/birds_flipped.jpg')\n",
    "    img_flipped.show()\n",
    "flip_image('images/birds.jpg')\n",
    "def add_noise(image_path):\n",
    "    img = Image.open(image_path)\n",
    "    img_np = np.array(img)\n",
    "    noise = np.random.randint(0, 255, img_np.shape, dtype='uint8')\n",
    "    img_np_noisy = np.clip(img_np + noise, 0, 255)\n",
    "    img_noisy = Image.fromarray(img_np_noisy)\n",
    "    img_noisy.save('images/birds_noisy.jpg')\n",
    "    img_noisy.show()\n",
    "add_noise('images/birds.jpg')\n",
    "def brighten_channels(image_path, value=40):\n",
    "    img = Image.open(image_path)\n",
    "    img_np = np.array(img)\n",
    "    img_np_brightened = np.clip(img_np + value, 0, 255)\n",
    "    img_brightened = Image.fromarray(img_np_brightened)\n",
    "    img_brightened.save('images/birds_brightened.jpg')\n",
    "    img_brightened.show()\n",
    "brighten_channels('images/birds.jpg')\n",
    "def apply_mask(image_path, x=100, y=100, w=100, h=100):\n",
    "    img = Image.open(image_path)\n",
    "    img_np = np.array(img)\n",
    "    img_np_masked = img_np.copy()\n",
    "    img_np_masked[y:y+h, x:x+w] = 0\n",
    "    img_masked = Image.fromarray(img_np_masked)\n",
    "    img_masked.save('images/birds_masked.jpg')\n",
    "    img_masked.show()\n",
    "apply_mask('images/birds.jpg')"
   ],
   "id": "1656a717fe0aa8c7",
   "outputs": [],
   "execution_count": 6
  },
  {
   "metadata": {},
   "cell_type": "markdown",
   "source": "",
   "id": "95c2dda3c46e7fd3"
  }
 ],
 "metadata": {
  "kernelspec": {
   "display_name": "Python 3",
   "language": "python",
   "name": "python3"
  },
  "language_info": {
   "codemirror_mode": {
    "name": "ipython",
    "version": 2
   },
   "file_extension": ".py",
   "mimetype": "text/x-python",
   "name": "python",
   "nbconvert_exporter": "python",
   "pygments_lexer": "ipython2",
   "version": "2.7.6"
  }
 },
 "nbformat": 4,
 "nbformat_minor": 5
}
