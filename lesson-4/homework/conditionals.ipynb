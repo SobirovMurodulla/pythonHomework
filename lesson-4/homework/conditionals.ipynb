{
 "cells": [
  {
   "metadata": {},
   "cell_type": "markdown",
   "source": "Task-1: Return uncommon elements of lists. Order of elements does not matter.",
   "id": "bda5055b04600529"
  },
  {
   "cell_type": "code",
   "id": "initial_id",
   "metadata": {
    "collapsed": true,
    "ExecuteTime": {
     "end_time": "2025-02-14T11:55:21.676623Z",
     "start_time": "2025-02-14T11:55:13.988295Z"
    }
   },
   "source": [
    "count1 = {}\n",
    "count2 = {}\n",
    "list1 = list(map(int, input(\"Enter elements of list1 separated by space: \").split()))\n",
    "list2 = list(map(int, input(\"Enter elements of list2 separated by space: \").split()))\n",
    "for item in list1:\n",
    "    count1[item] = count1.get(item, 0) + 1\n",
    "\n",
    "for item in list2:\n",
    "    count2[item] = count2.get(item, 0) + 1\n",
    "result = []\n",
    "for item in count1:\n",
    "    if item not in count2:\n",
    "        result.extend([item] * count1[item])\n",
    "\n",
    "for item in count2:\n",
    "    if item not in count1:\n",
    "        result.extend([item] * count2[item])\n",
    "\n",
    "print(result)"
   ],
   "outputs": [
    {
     "name": "stdout",
     "output_type": "stream",
     "text": [
      "[1, 1, 3, 4]\n"
     ]
    }
   ],
   "execution_count": 2
  },
  {
   "metadata": {},
   "cell_type": "markdown",
   "source": "Task-2: Print the square of each number which is less than n on a separate line.",
   "id": "fdd250a30b60e40e"
  },
  {
   "metadata": {},
   "cell_type": "code",
   "outputs": [],
   "execution_count": null,
   "source": [
    "n = int(input(\"Enter the value of n: \"))\n",
    "for i in range(1, n):\n",
    "    print(i * i)"
   ],
   "id": "6edeed270ec85e11"
  },
  {
   "metadata": {},
   "cell_type": "markdown",
   "source": "Task-3: txt is given a string storage variable. Put an underscore after every third character in txt. If the character is a vowel or a letter followed by an underscore, the underscore should be placed after the next letter. If the character is the last character in a string, do not include a hyphen. Print the modified string.",
   "id": "b5fc4ee43541f528"
  },
  {
   "metadata": {
    "ExecuteTime": {
     "end_time": "2025-02-14T18:42:25.138857Z",
     "start_time": "2025-02-14T18:42:18.390752Z"
    }
   },
   "cell_type": "code",
   "source": [
    "txt = input(\"Enter the string: \")\n",
    "\n",
    "result = \"\"\n",
    "vowels = \"aeiouAEIOU\"\n",
    "unwanted_chars = set(vowels)\n",
    "i = 0\n",
    "count = 0\n",
    "\n",
    "while i < len(txt):\n",
    "    result += txt[i]\n",
    "    count += 1\n",
    "    if count == 3 and i != len(txt) - 1:\n",
    "        if txt[i] in unwanted_chars:\n",
    "            result += txt[i + 1]\n",
    "            unwanted_chars.add(txt[i+1])\n",
    "            i += 1\n",
    "        result += '_'\n",
    "        count = 0\n",
    "    unwanted_chars.add(txt[i])\n",
    "    i += 1\n",
    "\n",
    "print(result)"
   ],
   "id": "29df7a564faff13b",
   "outputs": [
    {
     "name": "stdout",
     "output_type": "stream",
     "text": [
      "abc_abcd_abcd_eabc_def_abcd_efg\n"
     ]
    }
   ],
   "execution_count": 9
  },
  {
   "metadata": {},
   "cell_type": "markdown",
   "source": "Task-4: Number Guessing Game Create a simple number guessing game.",
   "id": "eef288c6a4f757d2"
  },
  {
   "metadata": {
    "ExecuteTime": {
     "end_time": "2025-02-14T18:45:44.255377Z",
     "start_time": "2025-02-14T18:45:41.841982Z"
    }
   },
   "cell_type": "code",
   "source": [
    "import random\n",
    "\n",
    "def play_game():\n",
    "    number_to_guess = random.randint(1, 100)\n",
    "    attempts = 10\n",
    "\n",
    "    while attempts > 0:\n",
    "        guess = int(input(\"Enter your guess (1-100): \"))\n",
    "        if guess > number_to_guess:\n",
    "            print(\"Too high!\")\n",
    "        elif guess < number_to_guess:\n",
    "            print(\"Too low!\")\n",
    "        else:\n",
    "            print(\"You guessed it right!\")\n",
    "            return\n",
    "\n",
    "        attempts -= 1\n",
    "        print(f\"Attempts left: {attempts}\")\n",
    "\n",
    "    print(\"You lost. Want to play again?\")\n",
    "    play_again = input(\"Type 'Y', 'YES', 'y', 'yes', 'ok' to play again: \")\n",
    "    if play_again in ['Y', 'YES', 'y', 'yes', 'ok']:\n",
    "        play_game()\n",
    "\n",
    "play_game()"
   ],
   "id": "85b88bf5db69a0e7",
   "outputs": [
    {
     "ename": "KeyboardInterrupt",
     "evalue": "Interrupted by user",
     "output_type": "error",
     "traceback": [
      "\u001B[1;31m---------------------------------------------------------------------------\u001B[0m",
      "\u001B[1;31mKeyboardInterrupt\u001B[0m                         Traceback (most recent call last)",
      "Cell \u001B[1;32mIn[11], line 25\u001B[0m\n\u001B[0;32m     22\u001B[0m     \u001B[38;5;28;01mif\u001B[39;00m play_again \u001B[38;5;129;01min\u001B[39;00m [\u001B[38;5;124m'\u001B[39m\u001B[38;5;124mY\u001B[39m\u001B[38;5;124m'\u001B[39m, \u001B[38;5;124m'\u001B[39m\u001B[38;5;124mYES\u001B[39m\u001B[38;5;124m'\u001B[39m, \u001B[38;5;124m'\u001B[39m\u001B[38;5;124my\u001B[39m\u001B[38;5;124m'\u001B[39m, \u001B[38;5;124m'\u001B[39m\u001B[38;5;124myes\u001B[39m\u001B[38;5;124m'\u001B[39m, \u001B[38;5;124m'\u001B[39m\u001B[38;5;124mok\u001B[39m\u001B[38;5;124m'\u001B[39m]:\n\u001B[0;32m     23\u001B[0m         play_game()\n\u001B[1;32m---> 25\u001B[0m \u001B[43mplay_game\u001B[49m\u001B[43m(\u001B[49m\u001B[43m)\u001B[49m\n",
      "Cell \u001B[1;32mIn[11], line 8\u001B[0m, in \u001B[0;36mplay_game\u001B[1;34m()\u001B[0m\n\u001B[0;32m      5\u001B[0m attempts \u001B[38;5;241m=\u001B[39m \u001B[38;5;241m10\u001B[39m\n\u001B[0;32m      7\u001B[0m \u001B[38;5;28;01mwhile\u001B[39;00m attempts \u001B[38;5;241m>\u001B[39m \u001B[38;5;241m0\u001B[39m:\n\u001B[1;32m----> 8\u001B[0m     guess \u001B[38;5;241m=\u001B[39m \u001B[38;5;28mint\u001B[39m(\u001B[38;5;28;43minput\u001B[39;49m\u001B[43m(\u001B[49m\u001B[38;5;124;43m\"\u001B[39;49m\u001B[38;5;124;43mEnter your guess (1-100): \u001B[39;49m\u001B[38;5;124;43m\"\u001B[39;49m\u001B[43m)\u001B[49m)\n\u001B[0;32m      9\u001B[0m     \u001B[38;5;28;01mif\u001B[39;00m guess \u001B[38;5;241m>\u001B[39m number_to_guess:\n\u001B[0;32m     10\u001B[0m         \u001B[38;5;28mprint\u001B[39m(\u001B[38;5;124m\"\u001B[39m\u001B[38;5;124mToo high!\u001B[39m\u001B[38;5;124m\"\u001B[39m)\n",
      "File \u001B[1;32m~\\AppData\\Local\\Programs\\Python\\Python312\\Lib\\site-packages\\ipykernel\\kernelbase.py:1282\u001B[0m, in \u001B[0;36mKernel.raw_input\u001B[1;34m(self, prompt)\u001B[0m\n\u001B[0;32m   1280\u001B[0m     msg \u001B[38;5;241m=\u001B[39m \u001B[38;5;124m\"\u001B[39m\u001B[38;5;124mraw_input was called, but this frontend does not support input requests.\u001B[39m\u001B[38;5;124m\"\u001B[39m\n\u001B[0;32m   1281\u001B[0m     \u001B[38;5;28;01mraise\u001B[39;00m StdinNotImplementedError(msg)\n\u001B[1;32m-> 1282\u001B[0m \u001B[38;5;28;01mreturn\u001B[39;00m \u001B[38;5;28;43mself\u001B[39;49m\u001B[38;5;241;43m.\u001B[39;49m\u001B[43m_input_request\u001B[49m\u001B[43m(\u001B[49m\n\u001B[0;32m   1283\u001B[0m \u001B[43m    \u001B[49m\u001B[38;5;28;43mstr\u001B[39;49m\u001B[43m(\u001B[49m\u001B[43mprompt\u001B[49m\u001B[43m)\u001B[49m\u001B[43m,\u001B[49m\n\u001B[0;32m   1284\u001B[0m \u001B[43m    \u001B[49m\u001B[38;5;28;43mself\u001B[39;49m\u001B[38;5;241;43m.\u001B[39;49m\u001B[43m_parent_ident\u001B[49m\u001B[43m[\u001B[49m\u001B[38;5;124;43m\"\u001B[39;49m\u001B[38;5;124;43mshell\u001B[39;49m\u001B[38;5;124;43m\"\u001B[39;49m\u001B[43m]\u001B[49m\u001B[43m,\u001B[49m\n\u001B[0;32m   1285\u001B[0m \u001B[43m    \u001B[49m\u001B[38;5;28;43mself\u001B[39;49m\u001B[38;5;241;43m.\u001B[39;49m\u001B[43mget_parent\u001B[49m\u001B[43m(\u001B[49m\u001B[38;5;124;43m\"\u001B[39;49m\u001B[38;5;124;43mshell\u001B[39;49m\u001B[38;5;124;43m\"\u001B[39;49m\u001B[43m)\u001B[49m\u001B[43m,\u001B[49m\n\u001B[0;32m   1286\u001B[0m \u001B[43m    \u001B[49m\u001B[43mpassword\u001B[49m\u001B[38;5;241;43m=\u001B[39;49m\u001B[38;5;28;43;01mFalse\u001B[39;49;00m\u001B[43m,\u001B[49m\n\u001B[0;32m   1287\u001B[0m \u001B[43m\u001B[49m\u001B[43m)\u001B[49m\n",
      "File \u001B[1;32m~\\AppData\\Local\\Programs\\Python\\Python312\\Lib\\site-packages\\ipykernel\\kernelbase.py:1325\u001B[0m, in \u001B[0;36mKernel._input_request\u001B[1;34m(self, prompt, ident, parent, password)\u001B[0m\n\u001B[0;32m   1322\u001B[0m \u001B[38;5;28;01mexcept\u001B[39;00m \u001B[38;5;167;01mKeyboardInterrupt\u001B[39;00m:\n\u001B[0;32m   1323\u001B[0m     \u001B[38;5;66;03m# re-raise KeyboardInterrupt, to truncate traceback\u001B[39;00m\n\u001B[0;32m   1324\u001B[0m     msg \u001B[38;5;241m=\u001B[39m \u001B[38;5;124m\"\u001B[39m\u001B[38;5;124mInterrupted by user\u001B[39m\u001B[38;5;124m\"\u001B[39m\n\u001B[1;32m-> 1325\u001B[0m     \u001B[38;5;28;01mraise\u001B[39;00m \u001B[38;5;167;01mKeyboardInterrupt\u001B[39;00m(msg) \u001B[38;5;28;01mfrom\u001B[39;00m\u001B[38;5;250m \u001B[39m\u001B[38;5;28;01mNone\u001B[39;00m\n\u001B[0;32m   1326\u001B[0m \u001B[38;5;28;01mexcept\u001B[39;00m \u001B[38;5;167;01mException\u001B[39;00m:\n\u001B[0;32m   1327\u001B[0m     \u001B[38;5;28mself\u001B[39m\u001B[38;5;241m.\u001B[39mlog\u001B[38;5;241m.\u001B[39mwarning(\u001B[38;5;124m\"\u001B[39m\u001B[38;5;124mInvalid Message:\u001B[39m\u001B[38;5;124m\"\u001B[39m, exc_info\u001B[38;5;241m=\u001B[39m\u001B[38;5;28;01mTrue\u001B[39;00m)\n",
      "\u001B[1;31mKeyboardInterrupt\u001B[0m: Interrupted by user"
     ]
    }
   ],
   "execution_count": 11
  },
  {
   "metadata": {},
   "cell_type": "markdown",
   "source": "Task-5: Password Checker Task: Create a simple password checker.",
   "id": "5dc8b4937e5f7e3f"
  },
  {
   "metadata": {},
   "cell_type": "code",
   "outputs": [],
   "execution_count": null,
   "source": [
    "password = input(\"Enter your password: \")\n",
    "\n",
    "if len(password) < 8:\n",
    "    print(\"Password is too short.\")\n",
    "elif not any(char.isupper() for char in password):\n",
    "    print(\"Password must contain an uppercase letter.\")\n",
    "else:\n",
    "    print(\"Password is strong.\")"
   ],
   "id": "83ffcd3acb601131"
  },
  {
   "metadata": {},
   "cell_type": "markdown",
   "source": "Task-6: Prime Numbers Task: Write a Python program that prints all prime numbers between 1 and 100.",
   "id": "c6d16f8de8c14fec"
  },
  {
   "metadata": {},
   "cell_type": "code",
   "outputs": [],
   "execution_count": null,
   "source": [
    "for i in range(2, 101):\n",
    "    is_prime = True\n",
    "    for j in range(2, i):\n",
    "        if i % j == 0:\n",
    "            is_prime = False\n",
    "            break\n",
    "    if is_prime:\n",
    "        print(i)"
   ],
   "id": "595749d0971c0be6"
  },
  {
   "metadata": {},
   "cell_type": "markdown",
   "source": "Bonus Task: Task: Create a simple text-based Rock, Paper, Scissors game where the player plays against the computer.",
   "id": "e3fab32c61625050"
  },
  {
   "metadata": {
    "ExecuteTime": {
     "end_time": "2025-02-14T18:49:25.886516Z",
     "start_time": "2025-02-14T18:48:48.977061Z"
    }
   },
   "cell_type": "code",
   "source": [
    "import random\n",
    "\n",
    "choices = ['rock', 'paper', 'scissors']\n",
    "player_score = 0\n",
    "computer_score = 0\n",
    "\n",
    "while player_score < 5 and computer_score < 5:\n",
    "    computer_choice = random.choice(choices)\n",
    "    player_choice = input(\"Enter your choice (rock, paper, scissors): \").lower()\n",
    "\n",
    "    if player_choice not in choices:\n",
    "        print(\"Invalid choice. Please choose rock, paper, or scissors.\")\n",
    "        continue\n",
    "\n",
    "    print(f\"Computer chose: {computer_choice}\")\n",
    "\n",
    "    if player_choice == computer_choice:\n",
    "        print(\"It's a tie!\")\n",
    "    elif (player_choice == 'rock' and computer_choice == 'scissors') or \\\n",
    "         (player_choice == 'paper' and computer_choice == 'rock') or \\\n",
    "         (player_choice == 'scissors' and computer_choice == 'paper'):\n",
    "        print(\"You win this round!\")\n",
    "        player_score += 1\n",
    "    else:\n",
    "        print(\"Computer wins this round!\")\n",
    "        computer_score += 1\n",
    "\n",
    "    print(f\"Scores -> Player: {player_score}, Computer: {computer_score}\")\n",
    "\n",
    "if player_score == 5:\n",
    "    print(\"Congratulations! You won the match!\")\n",
    "else:\n",
    "    print(\"Computer won the match!\")"
   ],
   "id": "687b4da45a610e5a",
   "outputs": [
    {
     "name": "stdout",
     "output_type": "stream",
     "text": [
      "Computer chose: paper\n",
      "Computer wins this round!\n",
      "Scores -> Player: 0, Computer: 1\n",
      "Computer chose: paper\n",
      "You win this round!\n",
      "Scores -> Player: 1, Computer: 1\n",
      "Computer chose: scissors\n",
      "Computer wins this round!\n",
      "Scores -> Player: 1, Computer: 2\n",
      "Computer chose: scissors\n",
      "You win this round!\n",
      "Scores -> Player: 2, Computer: 2\n",
      "Computer chose: rock\n",
      "Computer wins this round!\n",
      "Scores -> Player: 2, Computer: 3\n",
      "Computer chose: rock\n",
      "It's a tie!\n",
      "Scores -> Player: 2, Computer: 3\n",
      "Computer chose: paper\n",
      "Computer wins this round!\n",
      "Scores -> Player: 2, Computer: 4\n",
      "Computer chose: paper\n",
      "Computer wins this round!\n",
      "Scores -> Player: 2, Computer: 5\n",
      "Computer won the match. Better luck next time!\n"
     ]
    }
   ],
   "execution_count": 12
  }
 ],
 "metadata": {
  "kernelspec": {
   "display_name": "Python 3",
   "language": "python",
   "name": "python3"
  },
  "language_info": {
   "codemirror_mode": {
    "name": "ipython",
    "version": 2
   },
   "file_extension": ".py",
   "mimetype": "text/x-python",
   "name": "python",
   "nbconvert_exporter": "python",
   "pygments_lexer": "ipython2",
   "version": "2.7.6"
  }
 },
 "nbformat": 4,
 "nbformat_minor": 5
}
