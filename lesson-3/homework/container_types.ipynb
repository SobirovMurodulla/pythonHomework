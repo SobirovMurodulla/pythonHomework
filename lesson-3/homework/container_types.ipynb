{
 "cells": [
  {
   "metadata": {},
   "cell_type": "markdown",
   "source": "LIST TASKS",
   "id": "a227ce8dc01bb2ef"
  },
  {
   "cell_type": "code",
   "id": "initial_id",
   "metadata": {
    "collapsed": true,
    "ExecuteTime": {
     "end_time": "2025-02-11T05:29:32.935224Z",
     "start_time": "2025-02-11T05:29:32.924061Z"
    }
   },
   "source": [
    "#1-task\n",
    "user_list = input(\"Enter a list of elements separated by spaces: \").split()\n",
    "element_to_count = input(\"Enter the element to count: \")\n",
    "occurrences = user_list.count(element_to_count)\n",
    "print(\"Occurrences: \", occurrences)"
   ],
   "outputs": [
    {
     "name": "stdout",
     "output_type": "stream",
     "text": [
      "Hello World\n"
     ]
    }
   ],
   "execution_count": 1
  },
  {
   "metadata": {
    "ExecuteTime": {
     "end_time": "2025-02-11T05:35:39.219751Z",
     "start_time": "2025-02-11T05:35:39.178985Z"
    }
   },
   "cell_type": "code",
   "source": [
    "#2-task\n",
    "user_list = input(\"Enter a list of numbers separated by spaces: \").split()\n",
    "\n",
    "numbers = [int(num) for num in user_list]\n",
    "total_sum = sum(numbers)\n",
    "print(f\"The total sum: \", total_sum)"
   ],
   "id": "7f104875456e6c7b",
   "outputs": [
    {
     "name": "stdout",
     "output_type": "stream",
     "text": [
      "11\n"
     ]
    }
   ],
   "execution_count": 2
  },
  {
   "metadata": {},
   "cell_type": "code",
   "outputs": [],
   "execution_count": null,
   "source": [
    "#3-task\n",
    "user_list = input(\"Enter a list of numbers separated by spaces: \").split()\n",
    "numbers = [int(num) for num in user_list]\n",
    "max_element = max(numbers)\n",
    "print(f\"The largest element is: \",max_element)"
   ],
   "id": "39deeb1eb1105889"
  },
  {
   "metadata": {
    "ExecuteTime": {
     "end_time": "2025-02-12T10:55:00.852473Z",
     "start_time": "2025-02-12T10:54:55.585112Z"
    }
   },
   "cell_type": "code",
   "source": [
    "#4-task\n",
    "user_list = map(int,input(\"Enter a list of numbers separated by spaces: \").split())\n",
    "min_element = min(user_list)\n",
    "print(f\"The smallest element is: \",min_element)"
   ],
   "id": "982952ed66d58ae2",
   "outputs": [
    {
     "name": "stdout",
     "output_type": "stream",
     "text": [
      "The smallest element is:  1\n"
     ]
    }
   ],
   "execution_count": 2
  },
  {
   "metadata": {
    "ExecuteTime": {
     "end_time": "2025-02-12T11:03:29.517416Z",
     "start_time": "2025-02-12T11:03:19.191594Z"
    }
   },
   "cell_type": "code",
   "source": [
    "#5-task\n",
    "user_list = map(str,input(\"Enter a list of numbers separated by spaces: \").split())\n",
    "element_to_check = (input(\"Enter the element to check: \"))\n",
    "if element_to_check in user_list:\n",
    "    print(\"The element is in the list\")\n",
    "else:\n",
    "    print(\"The element is not in the list\")"
   ],
   "id": "1793ad51fc6e850a",
   "outputs": [
    {
     "name": "stdout",
     "output_type": "stream",
     "text": [
      "The element is in the list\n"
     ]
    }
   ],
   "execution_count": 5
  },
  {
   "metadata": {},
   "cell_type": "code",
   "outputs": [],
   "execution_count": null,
   "source": [
    "#6-task\n",
    "user_list = input(\"Enter a list of numbers separated by spaces: \").split()\n",
    "if len(user_list) != 0:\n",
    "    print(\"First element: \", (user_list[0]))\n",
    "else:\n",
    "    print(\"The list is empty\")\n"
   ],
   "id": "b69c3f9a8c91265d"
  },
  {
   "metadata": {},
   "cell_type": "code",
   "outputs": [],
   "execution_count": null,
   "source": [
    "#7-task\n",
    "user_list = input(\"Enter a list of numbers separated by spaces: \").split()\n",
    "if len(user_list) != 0:\n",
    "    print(\"Last element: \", (user_list[-1]))\n",
    "else:\n",
    "    print(\"The list is empty\")"
   ],
   "id": "f5f760528d47d147"
  },
  {
   "metadata": {},
   "cell_type": "code",
   "outputs": [],
   "execution_count": null,
   "source": [
    "#8-task\n",
    "user_list = input(\"Enter a list of elements separated by spaces: \").split()\n",
    "sliced_list = (user_list[:3])\n",
    "print(\"The first three elements are: \", sliced_list)"
   ],
   "id": "c45c3951c8cd6dcb"
  },
  {
   "metadata": {
    "ExecuteTime": {
     "end_time": "2025-02-12T11:00:28.316672Z",
     "start_time": "2025-02-12T11:00:23.055775Z"
    }
   },
   "cell_type": "code",
   "source": [
    "#9-task\n",
    "user_list = list(map(str, input(\"Enter a list of elements separated by spaces: \").split()))\n",
    "reversed_list = user_list[::-1]\n",
    "print(\"The elements in reverse order are:\", *reversed_list)"
   ],
   "id": "c8a1624fbb46c775",
   "outputs": [
    {
     "name": "stdout",
     "output_type": "stream",
     "text": [
      "The elements in reverse order are: [5, 4, 3, 2, 1]\n"
     ]
    }
   ],
   "execution_count": 4
  },
  {
   "metadata": {
    "ExecuteTime": {
     "end_time": "2025-02-12T11:04:51.861807Z",
     "start_time": "2025-02-12T11:04:34.233806Z"
    }
   },
   "cell_type": "code",
   "source": [
    "\n",
    "#10-task\n",
    "user_list = list(map(str, input(\"Enter a list of elements separated by spaces: \").split()))\n",
    "sorted_list = sorted(user_list)\n",
    "print(\"The elements in sorted order are:\", *sorted_list)"
   ],
   "id": "2e198b540eff0d38",
   "outputs": [
    {
     "name": "stdout",
     "output_type": "stream",
     "text": [
      "The elements in sorted order are: 3 4 5 6 7\n"
     ]
    }
   ],
   "execution_count": 6
  },
  {
   "metadata": {
    "ExecuteTime": {
     "end_time": "2025-02-12T11:08:31.213663Z",
     "start_time": "2025-02-12T11:08:27.053042Z"
    }
   },
   "cell_type": "code",
   "source": [
    "#11-task\n",
    "user_list = input(\"Enter a list of elements separated by spaces: \").split()\n",
    "unique_list = list(set(user_list))\n",
    "print(\"The list with unique elements is:\", *unique_list[-1::-1])\n"
   ],
   "id": "3516b17d37256701",
   "outputs": [
    {
     "name": "stdout",
     "output_type": "stream",
     "text": [
      "The list with unique elements is: 1 2 3\n"
     ]
    }
   ],
   "execution_count": 12
  },
  {
   "metadata": {},
   "cell_type": "code",
   "outputs": [],
   "execution_count": null,
   "source": [
    "#12-task\n",
    "user_list = input(\"Enter a list of elements separated by spaces: \").split()\n",
    "element_to_insert = input(\"Enter the element to insert: \")\n",
    "index_to_insert = int(input(\"Enter the index at which to insert the element: \"))\n",
    "user_list.insert(index_to_insert, element_to_insert)\n",
    "print(\"The list after inserting the element is:\", *user_list)\n",
    "\n"
   ],
   "id": "ef5c6910ee0513df"
  },
  {
   "metadata": {},
   "cell_type": "code",
   "outputs": [],
   "execution_count": null,
   "source": [
    "#13-task\n",
    "user_list = input(\"Enter a list of elements separated by spaces: \").split()\n",
    "element_to_find = input(\"Enter the element to find the index of: \")\n",
    "if element_to_find in user_list:\n",
    "    index_of_element = user_list.index(element_to_find)\n",
    "    print(\"The index of the first occurrence of the element is:\", index_of_element)\n",
    "else:\n",
    "    print(\"The element is not in the list\")"
   ],
   "id": "7f2c9aa29fd9d0b"
  },
  {
   "metadata": {
    "ExecuteTime": {
     "end_time": "2025-02-12T11:12:55.355559Z",
     "start_time": "2025-02-12T11:12:53.004493Z"
    }
   },
   "cell_type": "code",
   "source": [
    "#14-task\n",
    "user_list = input(\"Enter a list of elements separated by spaces: \").split()\n",
    "is_empty = len(user_list) == 0\n",
    "print(\"Is the list empty? \", is_empty)"
   ],
   "id": "2806803edd7ba8e5",
   "outputs": [
    {
     "name": "stdout",
     "output_type": "stream",
     "text": [
      "Is the list empty?  True\n"
     ]
    }
   ],
   "execution_count": 14
  },
  {
   "metadata": {},
   "cell_type": "code",
   "outputs": [],
   "execution_count": null,
   "source": [
    "#15-task\n",
    "user_list = list(map(int, input(\"Enter a list of integers separated by spaces: \").split()))\n",
    "even_count = sum(1 for num in user_list if num % 2 == 0)\n",
    "print(\"Count of even numbers:\", even_count)"
   ],
   "id": "408bb2f347b9840"
  },
  {
   "metadata": {},
   "cell_type": "code",
   "outputs": [],
   "execution_count": null,
   "source": [
    "#16-task\n",
    "user_list = list(map(int, input(\"Enter a list of integers separated by spaces: \").split()))\n",
    "odd_count = sum(1 for num in user_list if num % 2 != 0)\n",
    "print(\"Count of odd numbers:\", odd_count)"
   ],
   "id": "185037fbdf4b3521"
  },
  {
   "metadata": {},
   "cell_type": "code",
   "outputs": [],
   "execution_count": null,
   "source": [
    "#17-task\n",
    "list1 = input(\"Enter the first list of elements separated by spaces: \").split()\n",
    "list2 = input(\"Enter the second list of elements separated by spaces: \").split()\n",
    "concatenated_list = list1 + list2\n",
    "print(\"Concatenated list:\", concatenated_list)"
   ],
   "id": "2e082b3df2df573c"
  },
  {
   "metadata": {},
   "cell_type": "code",
   "outputs": [],
   "execution_count": null,
   "source": [
    "#18-task\n",
    "user_list = input(\"Enter a list of elements separated by spaces: \").split()\n",
    "sublist = input(\"Enter the sublist of elements separated by spaces: \").split()\n",
    "sublist_exists = ' '.join(sublist) in ' '.join(user_list)\n",
    "print(\"Does the sublist exist in the list?\", sublist_exists)"
   ],
   "id": "ad49092e2604a9b6"
  },
  {
   "metadata": {},
   "cell_type": "code",
   "outputs": [],
   "execution_count": null,
   "source": [
    "#19-task\n",
    "user_list = input(\"Enter a list of elements separated by spaces: \").split()\n",
    "element_to_replace = input(\"Enter the element to replace: \")\n",
    "new_element = input(\"Enter the new element: \")\n",
    "if element_to_replace in user_list:\n",
    "    user_list[user_list.index(element_to_replace)] = new_element\n",
    "print(\"List after replacement:\", user_list)"
   ],
   "id": "3cfe8f5ff58dd658"
  },
  {
   "metadata": {},
   "cell_type": "code",
   "outputs": [],
   "execution_count": null,
   "source": [
    "#20-task\n",
    "user_list = list(map(int, input(\"Enter a list of numbers separated by spaces: \").split()))\n",
    "second_largest = sorted(set(user_list))[-2]\n",
    "print(\"The second largest element is:\", second_largest)"
   ],
   "id": "6ef55c550a0705df"
  },
  {
   "metadata": {},
   "cell_type": "code",
   "outputs": [],
   "execution_count": null,
   "source": [
    "#21-task\n",
    "user_list = list(map(int, input(\"Enter a list of numbers separated by spaces: \").split()))\n",
    "second_smallest = sorted(set(user_list))[1]\n",
    "print(\"The second smallest element is:\", second_smallest)"
   ],
   "id": "8ad5d1442e6954de"
  },
  {
   "metadata": {},
   "cell_type": "code",
   "outputs": [],
   "execution_count": null,
   "source": [
    "#22-task\n",
    "user_list = list(map(int, input(\"Enter a list of numbers separated by spaces: \").split()))\n",
    "even_numbers = [num for num in user_list if num % 2 == 0]\n",
    "print(\"List of even numbers:\", even_numbers)"
   ],
   "id": "dec412f4e242a160"
  },
  {
   "metadata": {},
   "cell_type": "code",
   "outputs": [],
   "execution_count": null,
   "source": [
    "#23-task\n",
    "user_list = list(map(int, input(\"Enter a list of numbers separated by spaces: \").split()))\n",
    "odd_numbers = [num for num in user_list if num % 2 != 0]\n",
    "print(\"List of odd numbers:\", odd_numbers)\n"
   ],
   "id": "d6b8598f91c25081"
  },
  {
   "metadata": {},
   "cell_type": "code",
   "outputs": [],
   "execution_count": null,
   "source": [
    "#24-task\n",
    "user_list = input(\"Enter a list of elements separated by spaces: \").split()\n",
    "list_length = len(user_list)\n",
    "print(\"The number of elements in the list is:\", list_length)"
   ],
   "id": "da76249267bd339d"
  },
  {
   "metadata": {},
   "cell_type": "code",
   "outputs": [],
   "execution_count": null,
   "source": [
    "#25-task\n",
    "user_list = input(\"Enter a list of elements separated by spaces: \").split()\n",
    "copied_list = user_list[:]\n",
    "print(\"Copied list:\", copied_list)"
   ],
   "id": "cc3c7b706f1c6af"
  },
  {
   "metadata": {},
   "cell_type": "code",
   "outputs": [],
   "execution_count": null,
   "source": [
    "#26-task\n",
    "user_list = input(\"Enter a list of elements separated by spaces: \").split()\n",
    "mid_index = len(user_list) // 2\n",
    "if len(user_list) % 2 == 0:\n",
    "    middle_elements = user_list[mid_index - 1:mid_index + 1]\n",
    "else:\n",
    "    middle_elements = user_list[mid_index]\n",
    "print(\"The middle element(s):\", middle_elements)"
   ],
   "id": "e287a78a4ef45951"
  },
  {
   "metadata": {},
   "cell_type": "code",
   "outputs": [],
   "execution_count": null,
   "source": [
    "#27-task\n",
    "user_list = list(map(int, input(\"Enter a list of numbers separated by spaces: \").split()))\n",
    "start_index = int(input(\"Enter the start index of the sublist: \"))\n",
    "end_index = int(input(\"Enter the end index of the sublist: \"))\n",
    "max_in_sublist = max(user_list[start_index:end_index + 1])\n",
    "print(\"The maximum element in the sublist is:\", max_in_sublist)"
   ],
   "id": "b5b67eb0d044ec80"
  },
  {
   "metadata": {},
   "cell_type": "code",
   "outputs": [],
   "execution_count": null,
   "source": [
    "#28-task\n",
    "user_list = list(map(int, input(\"Enter a list of numbers separated by spaces: \").split()))\n",
    "start_index = int(input(\"Enter the start index of the sublist: \"))\n",
    "end_index = int(input(\"Enter the end index of the sublist: \"))\n",
    "min_in_sublist = min(user_list[start_index:end_index + 1])\n",
    "print(\"The minimum element in the sublist is:\", min_in_sublist)"
   ],
   "id": "32276a457230bb19"
  },
  {
   "metadata": {},
   "cell_type": "code",
   "outputs": [],
   "execution_count": null,
   "source": [
    "#29-task\n",
    "user_list = input(\"Enter a list of elements separated by spaces: \").split()\n",
    "index_to_remove = int(input(\"Enter the index of the element to remove: \"))\n",
    "if 0 <= index_to_remove < len(user_list):\n",
    "    user_list.pop(index_to_remove)\n",
    "print(\"List after removing the element:\", user_list)"
   ],
   "id": "4c0f016ff28e79d4"
  },
  {
   "metadata": {},
   "cell_type": "code",
   "outputs": [],
   "execution_count": null,
   "source": [
    "#30-task\n",
    "user_list = list(map(int, input(\"Enter a list of numbers separated by spaces: \").split()))\n",
    "is_sorted = user_list == sorted(user_list)\n",
    "print(\"Is the list sorted in ascending order?\", is_sorted)"
   ],
   "id": "7d90fc0070be5717"
  },
  {
   "metadata": {},
   "cell_type": "code",
   "outputs": [],
   "execution_count": null,
   "source": [
    "#31-task\n",
    "user_list = input(\"Enter a list of elements separated by spaces: \").split()\n",
    "repeat_count = int(input(\"Enter the number of times to repeat each element: \"))\n",
    "repeated_list = [element for element in user_list for _ in range(repeat_count)]\n",
    "print(\"List with repeated elements:\", repeated_list)"
   ],
   "id": "17c346ae128b0b8e"
  },
  {
   "metadata": {},
   "cell_type": "code",
   "outputs": [],
   "execution_count": null,
   "source": [
    "#32-task\n",
    "list1 = list(map(int, input(\"Enter the first list of numbers separated by spaces: \").split()))\n",
    "list2 = list(map(int, input(\"Enter the second list of numbers separated by spaces: \").split()))\n",
    "merged_sorted_list = sorted(list1 + list2)\n",
    "print(\"Merged and sorted list:\", merged_sorted_list)"
   ],
   "id": "ac41aff23ed92c0d"
  },
  {
   "metadata": {},
   "cell_type": "code",
   "outputs": [],
   "execution_count": null,
   "source": [
    "#33-task\n",
    "user_list = input(\"Enter a list of elements separated by spaces: \").split()\n",
    "element_to_find = input(\"Enter the element to find all indices of: \")\n",
    "indices = [index for index, element in enumerate(user_list) if element == element_to_find]\n",
    "print(\"All indices of the element:\", indices)"
   ],
   "id": "9ae8ca3cf43d45c5"
  },
  {
   "metadata": {},
   "cell_type": "code",
   "outputs": [],
   "execution_count": null,
   "source": [
    "#34-task\n",
    "user_list = input(\"Enter a list of elements separated by spaces: \").split()\n",
    "rotation_count = int(input(\"Enter the number of positions to rotate the list: \"))\n",
    "rotated_list = user_list[-rotation_count:] + user_list[:-rotation_count]\n",
    "print(\"Rotated list:\", rotated_list)"
   ],
   "id": "403b69559e15e100"
  },
  {
   "metadata": {},
   "cell_type": "code",
   "outputs": [],
   "execution_count": null,
   "source": [
    "#35-task\n",
    "start_range = int(input(\"Enter the start of the range: \"))\n",
    "end_range = int(input(\"Enter the end of the range: \"))\n",
    "range_list = list(range(start_range, end_range + 1))\n",
    "print(\"Range list:\", range_list)"
   ],
   "id": "64b7a6a5144d5032"
  },
  {
   "metadata": {},
   "cell_type": "code",
   "outputs": [],
   "execution_count": null,
   "source": [
    "#36-task\n",
    "user_list = list(map(int, input(\"Enter a list of numbers separated by spaces: \").split()))\n",
    "positive_sum = sum(num for num in user_list if num > 0)\n",
    "print(\"Sum of positive numbers:\", positive_sum)"
   ],
   "id": "6249d3015fda0434"
  },
  {
   "metadata": {},
   "cell_type": "code",
   "outputs": [],
   "execution_count": null,
   "source": [
    "#37-task\n",
    "user_list = list(map(int, input(\"Enter a list of numbers separated by spaces: \").split()))\n",
    "negative_sum = sum(num for num in user_list if num < 0)\n",
    "print(\"Sum of negative numbers:\", negative_sum)"
   ],
   "id": "968041af11aef34a"
  },
  {
   "metadata": {},
   "cell_type": "code",
   "outputs": [],
   "execution_count": null,
   "source": [
    "#38-task\n",
    "user_list = input(\"Enter a list of elements separated by spaces: \").split()\n",
    "is_palindrome = user_list == user_list[::-1]\n",
    "print(\"Is the list a palindrome?\", is_palindrome)"
   ],
   "id": "d5b0ac0027094eb"
  },
  {
   "metadata": {},
   "cell_type": "code",
   "outputs": [],
   "execution_count": null,
   "source": [
    "#39-task\n",
    "user_list = input(\"Enter a list of elements separated by spaces: \").split()\n",
    "sublist_size = int(input(\"Enter the size of each sublist: \"))\n",
    "nested_list = [user_list[i:i + sublist_size] for i in range(0, len(user_list), sublist_size)]\n",
    "print(\"Nested list:\", nested_list)"
   ],
   "id": "1dce3ad88a307c7b"
  },
  {
   "metadata": {},
   "cell_type": "code",
   "outputs": [],
   "execution_count": null,
   "source": [
    "#40-task\n",
    "user_list = input(\"Enter a list of elements separated by spaces: \").split()\n",
    "unique_elements = []\n",
    "[unique_elements.append(element) for element in user_list if element not in unique_elements]\n",
    "print(\"List with unique elements in order:\", unique_elements)"
   ],
   "id": "e041b3010ae86a05"
  },
  {
   "metadata": {},
   "cell_type": "markdown",
   "source": "TUPLE TASKS",
   "id": "9bdc4df607a6d4dc"
  },
  {
   "metadata": {},
   "cell_type": "code",
   "outputs": [],
   "execution_count": null,
   "source": [
    "#1-task\n",
    "user_tuple = tuple(input(\"Enter elements of the tuple separated by spaces: \").split())\n",
    "element_to_count = input(\"Enter the element to count: \")\n",
    "occurrences = user_tuple.count(element_to_count)\n",
    "print(\"Occurrences of the element:\", occurrences)"
   ],
   "id": "e1095d88d3c68ccc"
  },
  {
   "metadata": {},
   "cell_type": "code",
   "outputs": [],
   "execution_count": null,
   "source": [
    "#2-task\n",
    "user_tuple = tuple(map(int, input(\"Enter elements of the tuple separated by spaces: \").split()))\n",
    "max_element = max(user_tuple)\n",
    "print(\"The largest element is:\", max_element)"
   ],
   "id": "7d00529d2eb28552"
  },
  {
   "metadata": {},
   "cell_type": "code",
   "outputs": [],
   "execution_count": null,
   "source": [
    "#3-task\n",
    "user_tuple = tuple(map(int, input(\"Enter elements of the tuple separated by spaces: \").split()))\n",
    "min_element = min(user_tuple)\n",
    "print(\"The smallest element is:\", min_element)"
   ],
   "id": "adcb11a2bb4e044a"
  },
  {
   "metadata": {},
   "cell_type": "code",
   "outputs": [],
   "execution_count": null,
   "source": [
    "#4-task\n",
    "user_tuple = tuple(input(\"Enter elements of the tuple separated by spaces: \").split())\n",
    "element_to_check = input(\"Enter the element to check: \")\n",
    "is_present = element_to_check in user_tuple\n",
    "print(\"Is the element present in the tuple?\", is_present)"
   ],
   "id": "6afdab8640d3c918"
  },
  {
   "metadata": {},
   "cell_type": "code",
   "outputs": [],
   "execution_count": null,
   "source": [
    "#5-task\n",
    "user_tuple = tuple(input(\"Enter elements of the tuple separated by spaces: \").split())\n",
    "first_element = user_tuple[0] if user_tuple else None\n",
    "print(\"The first element is:\", first_element)"
   ],
   "id": "7788b83e462647f0"
  },
  {
   "metadata": {},
   "cell_type": "code",
   "outputs": [],
   "execution_count": null,
   "source": [
    "#6-task\n",
    "user_tuple = tuple(input(\"Enter elements of the tuple separated by spaces: \").split())\n",
    "last_element = user_tuple[-1] if user_tuple else None\n",
    "print(\"The last element is:\", last_element)"
   ],
   "id": "bb7a2706c8dec57a"
  },
  {
   "metadata": {},
   "cell_type": "code",
   "outputs": [],
   "execution_count": null,
   "source": [
    "#7-task\n",
    "user_tuple = tuple(input(\"Enter elements of the tuple separated by spaces: \").split())\n",
    "tuple_length = len(user_tuple)\n",
    "print(\"The number of elements in the tuple is:\", tuple_length)"
   ],
   "id": "1c111cd5e54545bd"
  },
  {
   "metadata": {},
   "cell_type": "code",
   "outputs": [],
   "execution_count": null,
   "source": [
    "#8-task\n",
    "user_tuple = tuple(input(\"Enter elements of the tuple separated by spaces: \").split())\n",
    "sliced_tuple = user_tuple[:3]\n",
    "print(\"The sliced tuple is:\", sliced_tuple)"
   ],
   "id": "e42d050a1ad4cdad"
  },
  {
   "metadata": {},
   "cell_type": "code",
   "outputs": [],
   "execution_count": null,
   "source": [
    "#9-task\n",
    "tuple1 = tuple(input(\"Enter elements of the first tuple separated by spaces: \").split())\n",
    "tuple2 = tuple(input(\"Enter elements of the second tuple separated by spaces: \").split())\n",
    "concatenated_tuple = tuple1 + tuple2\n",
    "print(\"The concatenated tuple is:\", concatenated_tuple)"
   ],
   "id": "2f1eb345f408affa"
  },
  {
   "metadata": {},
   "cell_type": "code",
   "outputs": [],
   "execution_count": null,
   "source": [
    "#10-task\n",
    "user_tuple = tuple(input(\"Enter elements of the tuple separated by spaces: \").split())\n",
    "is_empty = len(user_tuple) == 0\n",
    "print(\"Is the tuple empty?\", is_empty)"
   ],
   "id": "d912a1058ba52393"
  },
  {
   "metadata": {},
   "cell_type": "code",
   "outputs": [],
   "execution_count": null,
   "source": [
    "#11-task\n",
    "user_tuple = tuple(input(\"Enter elements of the tuple separated by spaces: \").split())\n",
    "element_to_find = input(\"Enter the element to find all indices of: \")\n",
    "indices = [index for index, element in enumerate(user_tuple) if element == element_to_find]\n",
    "print(\"All indices of the element:\", indices)\n"
   ],
   "id": "633e18a6351c3bac"
  },
  {
   "metadata": {},
   "cell_type": "code",
   "outputs": [],
   "execution_count": null,
   "source": [
    "#12-task\n",
    "user_tuple = tuple(map(int, input(\"Enter elements of the tuple separated by spaces: \").split()))\n",
    "second_largest = sorted(set(user_tuple))[-2]\n",
    "print(\"The second largest element is:\", second_largest)"
   ],
   "id": "e8c7978176167eae"
  },
  {
   "metadata": {},
   "cell_type": "code",
   "outputs": [],
   "execution_count": null,
   "source": [
    "#13-task\n",
    "user_tuple = tuple(map(int, input(\"Enter elements of the tuple separated by spaces: \").split()))\n",
    "second_smallest = sorted(set(user_tuple))[1]\n",
    "print(\"The second smallest element is:\", second_smallest)"
   ],
   "id": "ac4ddadd9b20c846"
  },
  {
   "metadata": {},
   "cell_type": "code",
   "outputs": [],
   "execution_count": null,
   "source": [
    "#14-task\n",
    "element = input(\"Enter the element to create a single element tuple: \")\n",
    "single_element_tuple = (element,)\n",
    "print(\"The single element tuple is:\", single_element_tuple)"
   ],
   "id": "1836f8695019cbb4"
  },
  {
   "metadata": {},
   "cell_type": "code",
   "outputs": [],
   "execution_count": null,
   "source": [
    "#15-task\n",
    "user_list = input(\"Enter elements of the list separated by spaces: \").split()\n",
    "converted_tuple = tuple(user_list)\n",
    "print(\"The converted tuple is:\", converted_tuple)"
   ],
   "id": "8e9f998b5c9114dd"
  },
  {
   "metadata": {},
   "cell_type": "code",
   "outputs": [],
   "execution_count": null,
   "source": [
    "#16-task\n",
    "user_tuple = tuple(map(int, input(\"Enter elements of the tuple separated by spaces: \").split()))\n",
    "is_sorted = user_tuple == tuple(sorted(user_tuple))\n",
    "print(\"Is the tuple sorted in ascending order?\", is_sorted)"
   ],
   "id": "40658a19cda74904"
  },
  {
   "metadata": {},
   "cell_type": "code",
   "outputs": [],
   "execution_count": null,
   "source": [
    "#17-task\n",
    "user_tuple = tuple(map(int, input(\"Enter elements of the tuple separated by spaces: \").split()))\n",
    "start_index = int(input(\"Enter the start index of the subtuple: \"))\n",
    "end_index = int(input(\"Enter the end index of the subtuple: \"))\n",
    "max_in_subtuple = max(user_tuple[start_index:end_index + 1])\n",
    "print(\"The maximum element in the subtuple is:\", max_in_subtuple)"
   ],
   "id": "8d8cf5a2f15d8af"
  },
  {
   "metadata": {},
   "cell_type": "code",
   "outputs": [],
   "execution_count": null,
   "source": [
    "#18-task\n",
    "user_tuple = tuple(map(int, input(\"Enter elements of the tuple separated by spaces: \").split()))\n",
    "start_index = int(input(\"Enter the start index of the subtuple: \"))\n",
    "end_index = int(input(\"Enter the end index of the subtuple: \"))\n",
    "min_in_subtuple = min(user_tuple[start_index:end_index + 1])\n",
    "print(\"The minimum element in the subtuple is:\", min_in_subtuple)"
   ],
   "id": "5c70df165c4d4584"
  },
  {
   "metadata": {},
   "cell_type": "code",
   "outputs": [],
   "execution_count": null,
   "source": [
    "#19-task\n",
    "user_tuple = tuple(input(\"Enter elements of the tuple separated by spaces: \").split())\n",
    "element_to_remove = input(\"Enter the element to remove: \")\n",
    "if element_to_remove in user_tuple:\n",
    "    temp_list = list(user_tuple)\n",
    "    temp_list.remove(element_to_remove)\n",
    "    new_tuple = tuple(temp_list)\n",
    "else:\n",
    "    new_tuple = user_tuple\n",
    "print(\"The tuple after removing the element:\", new_tuple)"
   ],
   "id": "af309be106d04bba"
  },
  {
   "metadata": {},
   "cell_type": "code",
   "outputs": [],
   "execution_count": null,
   "source": [
    "#20-task\n",
    "user_tuple = tuple(input(\"Enter elements of the tuple separated by spaces: \").split())\n",
    "subtuple_size = int(input(\"Enter the size of each subtuple: \"))\n",
    "nested_tuple = tuple(user_tuple[i:i + subtuple_size] for i in range(0, len(user_tuple), subtuple_size))\n",
    "print(\"The nested tuple is:\", nested_tuple)"
   ],
   "id": "2a9d30803df58cf8"
  },
  {
   "metadata": {},
   "cell_type": "code",
   "outputs": [],
   "execution_count": null,
   "source": [
    "#21-task\n",
    "user_tuple = tuple(input(\"Enter elements of the tuple separated by spaces: \").split())\n",
    "repeat_count = int(input(\"Enter the number of times to repeat each element: \"))\n",
    "repeated_tuple = tuple(element for element in user_tuple for _ in range(repeat_count))\n",
    "print(\"The tuple with repeated elements is:\", repeated_tuple)"
   ],
   "id": "54615f59d62d0451"
  },
  {
   "metadata": {},
   "cell_type": "code",
   "outputs": [],
   "execution_count": null,
   "source": [
    "#22-task\n",
    "start_range = int(input(\"Enter the start of the range: \"))\n",
    "end_range = int(input(\"Enter the end of the range: \"))\n",
    "range_tuple = tuple(range(start_range, end_range + 1))\n",
    "print(\"The range tuple is:\", range_tuple)"
   ],
   "id": "b8673cab48baef4f"
  },
  {
   "metadata": {},
   "cell_type": "code",
   "outputs": [],
   "execution_count": null,
   "source": [
    "#23-task\n",
    "user_tuple = tuple(input(\"Enter elements of the tuple separated by spaces: \").split())\n",
    "reversed_tuple = user_tuple[::-1]\n",
    "print(\"The reversed tuple is:\", reversed_tuple)"
   ],
   "id": "6978cea96486670a"
  },
  {
   "metadata": {},
   "cell_type": "code",
   "outputs": [],
   "execution_count": null,
   "source": [
    "#24-task\n",
    "user_tuple = tuple(input(\"Enter elements of the tuple separated by spaces: \").split())\n",
    "is_palindrome = user_tuple == user_tuple[::-1]\n",
    "print(\"Is the tuple a palindrome?\", is_palindrome)"
   ],
   "id": "b027eba4ba70e8c0"
  },
  {
   "metadata": {},
   "cell_type": "code",
   "outputs": [],
   "execution_count": null,
   "source": [
    "#25-task\n",
    "user_tuple = tuple(input(\"Enter elements of the tuple separated by spaces: \").split())\n",
    "unique_elements = tuple(dict.fromkeys(user_tuple))\n",
    "print(\"The tuple with unique elements is:\", unique_elements)"
   ],
   "id": "5e67fc94165a3d8d"
  },
  {
   "metadata": {},
   "cell_type": "markdown",
   "source": "SET TASKS",
   "id": "fc17e6a8e63233d1"
  },
  {
   "metadata": {},
   "cell_type": "code",
   "outputs": [],
   "execution_count": null,
   "source": [
    "#1-task\n",
    "set1 = set(input(\"Enter elements of the first set separated by spaces: \").split())\n",
    "set2 = set(input(\"Enter elements of the second set separated by spaces: \").split())\n",
    "union_set = set1.union(set2)\n",
    "print(\"Union of sets:\", union_set)"
   ],
   "id": "81b4d59af952d413"
  },
  {
   "metadata": {},
   "cell_type": "code",
   "outputs": [],
   "execution_count": null,
   "source": [
    "#2-task\n",
    "set1 = set(input(\"Enter elements of the first set separated by spaces: \").split())\n",
    "set2 = set(input(\"Enter elements of the second set separated by spaces: \").split())\n",
    "intersection_set = set1.intersection(set2)\n",
    "print(\"Intersection of sets:\", intersection_set)"
   ],
   "id": "1e91e816c2f37f10"
  },
  {
   "metadata": {},
   "cell_type": "code",
   "outputs": [],
   "execution_count": null,
   "source": [
    "#3-task\n",
    "set1 = set(input(\"Enter elements of the first set separated by spaces: \").split())\n",
    "set2 = set(input(\"Enter elements of the second set separated by spaces: \").split())\n",
    "difference_set = set1.difference(set2)\n",
    "print(\"Difference of sets:\", difference_set)"
   ],
   "id": "2f75d631c9daaf1a"
  },
  {
   "metadata": {},
   "cell_type": "code",
   "outputs": [],
   "execution_count": null,
   "source": [
    "#4-task\n",
    "set1 = set(input(\"Enter elements of the first set separated by spaces: \").split())\n",
    "set2 = set(input(\"Enter elements of the second set separated by spaces: \").split())\n",
    "is_subset = set1.issubset(set2)\n",
    "print(\"Is the first set a subset of the second?\", is_subset)"
   ],
   "id": "57c3d4ae72982cd1"
  },
  {
   "metadata": {},
   "cell_type": "code",
   "outputs": [],
   "execution_count": null,
   "source": [
    "#5-task\n",
    "user_set = set(input(\"Enter elements of the set separated by spaces: \").split())\n",
    "element_to_check = input(\"Enter the element to check: \")\n",
    "is_present = element_to_check in user_set\n",
    "print(\"Is the element present in the set?\", is_present)"
   ],
   "id": "25bb41ee6a064dab"
  },
  {
   "metadata": {},
   "cell_type": "code",
   "outputs": [],
   "execution_count": null,
   "source": [
    "#6-task\n",
    "user_set = set(input(\"Enter elements of the set separated by spaces: \").split())\n",
    "set_length = len(user_set)\n",
    "print(\"The number of unique elements in the set is:\", set_length)"
   ],
   "id": "c17d7f60f059187f"
  },
  {
   "metadata": {},
   "cell_type": "code",
   "outputs": [],
   "execution_count": null,
   "source": [
    "#7-task\n",
    "user_list = input(\"Enter elements of the list separated by spaces: \").split()\n",
    "converted_set = set(user_list)\n",
    "print(\"The converted set is:\", converted_set)"
   ],
   "id": "cfb153f09e9c5684"
  },
  {
   "metadata": {},
   "cell_type": "code",
   "outputs": [],
   "execution_count": null,
   "source": [
    "#8-task\n",
    "user_set = set(input(\"Enter elements of the set separated by spaces: \").split())\n",
    "element_to_remove = input(\"Enter the element to remove: \")\n",
    "user_set.discard(element_to_remove)\n",
    "print(\"The set after removing the element:\", user_set)"
   ],
   "id": "5dd6233d611df3e1"
  },
  {
   "metadata": {},
   "cell_type": "code",
   "outputs": [],
   "execution_count": null,
   "source": [
    "#9-task\n",
    "user_set = set(input(\"Enter elements of the set separated by spaces: \").split())\n",
    "cleared_set = set()\n",
    "print(\"The cleared set is:\", cleared_set)"
   ],
   "id": "4fa858dd4c47c22f"
  },
  {
   "metadata": {},
   "cell_type": "code",
   "outputs": [],
   "execution_count": null,
   "source": [
    "#10-task\n",
    "user_set = set(input(\"Enter elements of the set separated by spaces: \").split())\n",
    "is_empty = len(user_set) == 0\n",
    "print(\"Is the set empty?\", is_empty)"
   ],
   "id": "1c60f4600230b7fc"
  },
  {
   "metadata": {},
   "cell_type": "code",
   "outputs": [],
   "execution_count": null,
   "source": [
    "#11-task\n",
    "set1 = set(input(\"Enter elements of the first set separated by spaces: \").split())\n",
    "set2 = set(input(\"Enter elements of the second set separated by spaces: \").split())\n",
    "symmetric_difference_set = set1.symmetric_difference(set2)\n",
    "print(\"Symmetric difference of sets:\", symmetric_difference_set)"
   ],
   "id": "8ba5200af2ed9c3b"
  },
  {
   "metadata": {},
   "cell_type": "code",
   "outputs": [],
   "execution_count": null,
   "source": [
    "#12-task\n",
    "user_set = set(input(\"Enter elements of the set separated by spaces: \").split())\n",
    "element_to_add = input(\"Enter the element to add: \")\n",
    "user_set.add(element_to_add)\n",
    "print(\"The set after adding the element:\", user_set)"
   ],
   "id": "82455c880e5df4f0"
  },
  {
   "metadata": {},
   "cell_type": "code",
   "outputs": [],
   "execution_count": null,
   "source": [
    "#13-task\n",
    "user_set = set(input(\"Enter elements of the set separated by spaces: \").split())\n",
    "popped_element = user_set.pop() if user_set else None\n",
    "print(\"The popped element is:\", popped_element)\n"
   ],
   "id": "2f3f9fd194b1e097"
  },
  {
   "metadata": {},
   "cell_type": "code",
   "outputs": [],
   "execution_count": null,
   "source": [
    "#14-task\n",
    "user_set = set(map(int, input(\"Enter elements of the set separated by spaces: \").split()))\n",
    "max_element = max(user_set)\n",
    "print(\"The maximum element is:\", max_element)"
   ],
   "id": "23dc52cba4a63daa"
  },
  {
   "metadata": {},
   "cell_type": "code",
   "outputs": [],
   "execution_count": null,
   "source": [
    "#15-task\n",
    "user_set = set(map(int, input(\"Enter elements of the set separated by spaces: \").split()))\n",
    "min_element = min(user_set)\n",
    "print(\"The minimum element is:\", min_element)"
   ],
   "id": "67fc228ef8a1d613"
  },
  {
   "metadata": {},
   "cell_type": "code",
   "outputs": [],
   "execution_count": null,
   "source": [
    "#16-task\n",
    "user_set = set(map(int, input(\"Enter elements of the set separated by spaces: \").split()))\n",
    "even_numbers_set = {num for num in user_set if num % 2 == 0}\n",
    "print(\"Set of even numbers:\", even_numbers_set)"
   ],
   "id": "34cd5d220679749a"
  },
  {
   "metadata": {},
   "cell_type": "code",
   "outputs": [],
   "execution_count": null,
   "source": [
    "#17-task\n",
    "user_set = set(map(int, input(\"Enter elements of the set separated by spaces: \").split()))\n",
    "odd_numbers_set = {num for num in user_set if num % 2 != 0}\n",
    "print(\"Set of odd numbers:\", odd_numbers_set)"
   ],
   "id": "5cc82469f7391525"
  },
  {
   "metadata": {},
   "cell_type": "code",
   "outputs": [],
   "execution_count": null,
   "source": [
    "#18-task\n",
    "start_range = int(input(\"Enter the start of the range: \"))\n",
    "end_range = int(input(\"Enter the end of the range: \"))\n",
    "range_set = set(range(start_range, end_range + 1))\n",
    "print(\"The range set is:\", range_set)\n"
   ],
   "id": "fa5334ee4e1fd3ce"
  },
  {
   "metadata": {},
   "cell_type": "code",
   "outputs": [],
   "execution_count": null,
   "source": [
    "#19-task\n",
    "list1 = input(\"Enter elements of the first list separated by spaces: \").split()\n",
    "list2 = input(\"Enter elements of the second list separated by spaces: \").split()\n",
    "merged_set = set(list1).union(set(list2))\n",
    "print(\"The merged and deduplicated set is:\", merged_set)"
   ],
   "id": "e038c9089ebda4d4"
  },
  {
   "metadata": {},
   "cell_type": "code",
   "outputs": [],
   "execution_count": null,
   "source": [
    "#20-task\n",
    "set1 = set(input(\"Enter elements of the first set separated by spaces: \").split())\n",
    "set2 = set(input(\"Enter elements of the second set separated by spaces: \").split())\n",
    "are_disjoint = set1.isdisjoint(set2)\n",
    "print(\"Are the sets disjoint?\", are_disjoint)"
   ],
   "id": "7b57ec04491c8fb3"
  },
  {
   "metadata": {},
   "cell_type": "code",
   "outputs": [],
   "execution_count": null,
   "source": [
    "#21-task\n",
    "user_list = input(\"Enter elements of the list separated by spaces: \").split()\n",
    "deduplicated_list = list(set(user_list))\n",
    "print(\"The list after removing duplicates:\", deduplicated_list)"
   ],
   "id": "db6023997ecde83"
  },
  {
   "metadata": {},
   "cell_type": "code",
   "outputs": [],
   "execution_count": null,
   "source": [
    "#22-task\n",
    "user_list = input(\"Enter elements of the list separated by spaces: \").split()\n",
    "unique_count = len(set(user_list))\n",
    "print(\"The count of unique elements is:\", unique_count)"
   ],
   "id": "6563d5f011cca8a4"
  },
  {
   "metadata": {
    "ExecuteTime": {
     "end_time": "2025-02-12T11:37:35.686666Z",
     "start_time": "2025-02-12T11:37:25.337273Z"
    }
   },
   "cell_type": "code",
   "source": [
    "#23-task\n",
    "import random\n",
    "num_elements = int(input(\"Enter the number of random elements: \"))\n",
    "range_start = int(input(\"Enter the start of the range: \"))\n",
    "range_end = int(input(\"Enter the end of the range: \"))\n",
    "random_set = {random.randint(range_start, range_end) for _ in range(num_elements)}\n",
    "print(\"The random set is:\", random_set)"
   ],
   "id": "dea35600d3827005",
   "outputs": [
    {
     "name": "stdout",
     "output_type": "stream",
     "text": [
      "The random set is: {1, 3, 4, 5}\n"
     ]
    }
   ],
   "execution_count": 15
  },
  {
   "metadata": {},
   "cell_type": "markdown",
   "source": "DICTIONARY TASKS",
   "id": "367a3ff1088fa5ba"
  },
  {
   "metadata": {},
   "cell_type": "code",
   "outputs": [],
   "execution_count": null,
   "source": [
    "#1-task\n",
    "user_dict = eval(input(\"Enter a dictionary: \"))\n",
    "key_to_get = input(\"Enter the key to retrieve the value for: \")\n",
    "value = user_dict.get(key_to_get, None)\n",
    "print(\"The value is:\", value)"
   ],
   "id": "43068c69a5fbe78f"
  },
  {
   "metadata": {},
   "cell_type": "code",
   "outputs": [],
   "execution_count": null,
   "source": [
    "#2-task\n",
    "user_dict = eval(input(\"Enter a dictionary: \"))\n",
    "key_to_check = input(\"Enter the key to check: \")\n",
    "is_present = key_to_check in user_dict\n",
    "print(\"Is the key present in the dictionary?\", is_present)"
   ],
   "id": "3f371b1d37a3edf1"
  },
  {
   "metadata": {},
   "cell_type": "code",
   "outputs": [],
   "execution_count": null,
   "source": [
    "#3-task\n",
    "user_dict = eval(input(\"Enter a dictionary: \"))\n",
    "key_count = len(user_dict)\n",
    "print(\"The number of keys in the dictionary is:\", key_count)"
   ],
   "id": "6cfd72afc957f4fc"
  },
  {
   "metadata": {},
   "cell_type": "code",
   "outputs": [],
   "execution_count": null,
   "source": [
    "#4-task\n",
    "user_dict = eval(input(\"Enter a dictionary: \"))\n",
    "keys_list = list(user_dict.keys())\n",
    "print(\"The list of keys is:\", keys_list)"
   ],
   "id": "3315375a6d2ff114"
  },
  {
   "metadata": {},
   "cell_type": "code",
   "outputs": [],
   "execution_count": null,
   "source": [
    "#5-task\n",
    "user_dict = eval(input(\"Enter a dictionary: \"))\n",
    "values_list = list(user_dict.values())\n",
    "print(\"The list of values is:\", values_list)"
   ],
   "id": "c809897edf94ef67"
  },
  {
   "metadata": {},
   "cell_type": "code",
   "outputs": [],
   "execution_count": null,
   "source": [
    "#6-task\n",
    "dict1 = eval(input(\"Enter the first dictionary: \"))\n",
    "dict2 = eval(input(\"Enter the second dictionary: \"))\n",
    "merged_dict = {**dict1, **dict2}\n",
    "print(\"The merged dictionary is:\", merged_dict)"
   ],
   "id": "6758feff3cf1bffd"
  },
  {
   "metadata": {},
   "cell_type": "code",
   "outputs": [],
   "execution_count": null,
   "source": [
    "#7-task\n",
    "user_dict = eval(input(\"Enter a dictionary: \"))\n",
    "key_to_remove = input(\"Enter the key to remove: \")\n",
    "user_dict.pop(key_to_remove, None)\n",
    "print(\"The dictionary after removing the key:\", user_dict)"
   ],
   "id": "6f0b5697d0ecddfc"
  },
  {
   "metadata": {},
   "cell_type": "code",
   "outputs": [],
   "execution_count": null,
   "source": [
    "#8-task\n",
    "cleared_dict = {}\n",
    "print(\"The cleared dictionary is:\", cleared_dict)"
   ],
   "id": "9a591267cf5694bc"
  },
  {
   "metadata": {},
   "cell_type": "code",
   "outputs": [],
   "execution_count": null,
   "source": [
    "#9-task\n",
    "user_dict = eval(input(\"Enter a dictionary: \"))\n",
    "is_empty = len(user_dict) == 0\n",
    "print(\"Is the dictionary empty?\", is_empty)"
   ],
   "id": "4ed27210be81a34c"
  },
  {
   "metadata": {},
   "cell_type": "code",
   "outputs": [],
   "execution_count": null,
   "source": [
    "#10-task\n",
    "user_dict = eval(input(\"Enter a dictionary: \"))\n",
    "key_to_get = input(\"Enter the key to retrieve the key-value pair for: \")\n",
    "key_value_pair = (key_to_get, user_dict[key_to_get]) if key_to_get in user_dict else None\n",
    "print(\"The key-value pair is:\", key_value_pair)"
   ],
   "id": "d1c7bfdc37cdad99"
  },
  {
   "metadata": {},
   "cell_type": "code",
   "outputs": [],
   "execution_count": null,
   "source": [
    "#11-task\n",
    "user_dict = eval(input(\"Enter a dictionary: \"))\n",
    "key_to_update = input(\"Enter the key to update: \")\n",
    "new_value = input(\"Enter the new value: \")\n",
    "user_dict[key_to_update] = new_value\n",
    "print(\"The updated dictionary is:\", user_dict)"
   ],
   "id": "8e6c0e63675b456b"
  },
  {
   "metadata": {},
   "cell_type": "code",
   "outputs": [],
   "execution_count": null,
   "source": [
    "#12-task\n",
    "user_dict = eval(input(\"Enter a dictionary: \"))\n",
    "value_to_count = input(\"Enter the value to count: \")\n",
    "value_count = list(user_dict.values()).count(value_to_count)\n",
    "print(\"The value count is:\", value_count)"
   ],
   "id": "3e487cab157a3cc9"
  },
  {
   "metadata": {},
   "cell_type": "code",
   "outputs": [],
   "execution_count": null,
   "source": [
    "#13-task\n",
    "user_dict = eval(input(\"Enter a dictionary: \"))\n",
    "inverted_dict = {v: k for k, v in user_dict.items()}\n",
    "print(\"The inverted dictionary is:\", inverted_dict)"
   ],
   "id": "7bad54158c160880"
  },
  {
   "metadata": {},
   "cell_type": "code",
   "outputs": [],
   "execution_count": null,
   "source": [
    "#14-task\n",
    "user_dict = eval(input(\"Enter a dictionary: \"))\n",
    "value_to_find = input(\"Enter the value to find keys for: \")\n",
    "keys_with_value = [k for k, v in user_dict.items() if v == value_to_find]\n",
    "print(\"The keys with the specified value are:\", keys_with_value)"
   ],
   "id": "ec35da7e865a8845"
  },
  {
   "metadata": {},
   "cell_type": "code",
   "outputs": [],
   "execution_count": null,
   "source": [
    "#15-task\n",
    "keys_list = input(\"Enter the list of keys separated by spaces: \").split()\n",
    "values_list = input(\"Enter the list of values separated by spaces: \").split()\n",
    "created_dict = dict(zip(keys_list, values_list))\n",
    "print(\"The created dictionary is:\", created_dict)"
   ],
   "id": "942cda3efd1995f8"
  },
  {
   "metadata": {},
   "cell_type": "code",
   "outputs": [],
   "execution_count": null,
   "source": [
    "#16-task\n",
    "user_dict = eval(input(\"Enter a dictionary: \"))\n",
    "has_nested_dict = any(isinstance(v, dict) for v in user_dict.values())\n",
    "print(\"Does the dictionary have nested dictionaries?\", has_nested_dict)"
   ],
   "id": "62e3a92b3539adf"
  },
  {
   "metadata": {},
   "cell_type": "code",
   "outputs": [],
   "execution_count": null,
   "source": [
    "#17-task\n",
    "user_dict = eval(input(\"Enter a nested dictionary: \"))\n",
    "outer_key = input(\"Enter the outer key: \")\n",
    "inner_key = input(\"Enter the inner key: \")\n",
    "nested_value = user_dict.get(outer_key, {}).get(inner_key, None)\n",
    "print(\"The nested value is:\", nested_value)"
   ],
   "id": "548021e3c09252c1"
  },
  {
   "metadata": {},
   "cell_type": "code",
   "outputs": [],
   "execution_count": null,
   "source": [
    "#18-task\n",
    "from collections import defaultdict\n",
    "default_value = input(\"Enter the default value: \")\n",
    "default_dict = defaultdict(lambda: default_value)\n",
    "print(\"The default dictionary is:\", default_dict)"
   ],
   "id": "1e700390d0e83ea1"
  },
  {
   "metadata": {},
   "cell_type": "code",
   "outputs": [],
   "execution_count": null,
   "source": [
    "#19-task\n",
    "user_dict = eval(input(\"Enter a dictionary: \"))\n",
    "unique_values_count = len(set(user_dict.values()))\n",
    "print(\"The number of unique values is:\", unique_values_count)"
   ],
   "id": "85e72b8dd3984700"
  },
  {
   "metadata": {},
   "cell_type": "code",
   "outputs": [],
   "execution_count": null,
   "source": [
    "#20-task\n",
    "user_dict = eval(input(\"Enter a dictionary: \"))\n",
    "sorted_by_key_dict = dict(sorted(user_dict.items()))\n",
    "print(\"The dictionary sorted by keys is:\", sorted_by_key_dict)"
   ],
   "id": "7fc2bb197ef45726"
  },
  {
   "metadata": {},
   "cell_type": "code",
   "outputs": [],
   "execution_count": null,
   "source": [
    "#21-task\n",
    "user_dict = eval(input(\"Enter a dictionary: \"))\n",
    "sorted_by_value_dict = dict(sorted(user_dict.items(), key=lambda item: item[1]))\n",
    "print(\"The dictionary sorted by values is:\", sorted_by_value_dict)"
   ],
   "id": "c53c0a0c380cc845"
  },
  {
   "metadata": {},
   "cell_type": "code",
   "outputs": [],
   "execution_count": null,
   "source": [
    "#22-task\n",
    "user_dict = eval(input(\"Enter a dictionary: \"))\n",
    "condition = eval(input(\"Enter the condition (e.g., lambda x: x > 10): \"))\n",
    "filtered_dict = {k: v for k, v in user_dict.items() if condition(v)}\n",
    "print(\"The filtered dictionary is:\", filtered_dict)"
   ],
   "id": "f0ed634617b5b5e7"
  },
  {
   "metadata": {},
   "cell_type": "code",
   "outputs": [],
   "execution_count": null,
   "source": [
    "#23-task\n",
    "dict1 = eval(input(\"Enter the first dictionary: \"))\n",
    "dict2 = eval(input(\"Enter the second dictionary: \"))\n",
    "common_keys = set(dict1.keys()).intersection(set(dict2.keys()))\n",
    "print(\"The common keys are:\", common_keys)"
   ],
   "id": "b770d5e03dc7dac7"
  },
  {
   "metadata": {},
   "cell_type": "code",
   "outputs": [],
   "execution_count": null,
   "source": [
    "#24-task\n",
    "key_value_tuple = eval(input(\"Enter a tuple of key-value pairs: \"))\n",
    "created_dict = dict(key_value_tuple)\n",
    "print(\"The created dictionary is:\", created_dict)"
   ],
   "id": "69ab8ab8f05a645f"
  },
  {
   "metadata": {},
   "cell_type": "code",
   "outputs": [],
   "execution_count": null,
   "source": [
    "#25-task\n",
    "user_dict = eval(input(\"Enter a dictionary: \"))\n",
    "first_key_value_pair = next(iter(user_dict.items())) if user_dict else None\n",
    "print(\"The first key-value pair is:\", first_key_value_pair)"
   ],
   "id": "d10d8ee0fdf7b2c7"
  }
 ],
 "metadata": {
  "kernelspec": {
   "display_name": "Python 3",
   "language": "python",
   "name": "python3"
  },
  "language_info": {
   "codemirror_mode": {
    "name": "ipython",
    "version": 2
   },
   "file_extension": ".py",
   "mimetype": "text/x-python",
   "name": "python",
   "nbconvert_exporter": "python",
   "pygments_lexer": "ipython2",
   "version": "2.7.6"
  }
 },
 "nbformat": 4,
 "nbformat_minor": 5
}
